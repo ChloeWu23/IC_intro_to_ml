{
 "cells": [
  {
   "cell_type": "markdown",
   "id": "fb05a3e3",
   "metadata": {},
   "source": [
    "### Part 1 Loading and examining the dataset"
   ]
  },
  {
   "cell_type": "code",
   "execution_count": 1,
   "id": "67e94cbf",
   "metadata": {},
   "outputs": [],
   "source": [
    "import os\n",
    "from helper import *\n",
    "from classification import DecisionTreeClassifier\n",
    "from DecisionTreeWithPruning import DecisionTreeWithPruning\n",
    "from improvement import train_and_predict"
   ]
  },
  {
   "cell_type": "markdown",
   "id": "b73aca90",
   "metadata": {},
   "source": [
    "#### Question 1.1"
   ]
  },
  {
   "cell_type": "markdown",
   "id": "a600de5e",
   "metadata": {},
   "source": [
    "From the graph below, we can see the class samples are unbalanced in train_sub, in comparison to train_full dataset. The proportion of data for G and Q classes are much smaller and the proportion of data for C class is much larger."
   ]
  },
  {
   "cell_type": "code",
   "execution_count": 2,
   "id": "2acb5a43",
   "metadata": {},
   "outputs": [],
   "source": [
    "dataset = [\"train_full\", \"train_sub\", \"train_noisy\"]"
   ]
  },
  {
   "cell_type": "code",
   "execution_count": 25,
   "id": "2b9c191b",
   "metadata": {},
   "outputs": [
    {
     "name": "stdout",
     "output_type": "stream",
     "text": [
      "Reading in file train_full\n",
      "A appeared 667 times, 0.17 of the total set\n",
      "C appeared 599 times, 0.15 of the total set\n",
      "E appeared 659 times, 0.17 of the total set\n",
      "G appeared 671 times, 0.17 of the total set\n",
      "O appeared 637 times, 0.16 of the total set\n",
      "Q appeared 667 times, 0.17 of the total set\n",
      "Reading in file train_sub\n",
      "A appeared 94 times, 0.16 of the total set\n",
      "C appeared 187 times, 0.31 of the total set\n",
      "E appeared 129 times, 0.22 of the total set\n",
      "G appeared 21 times, 0.04 of the total set\n",
      "O appeared 113 times, 0.19 of the total set\n",
      "Q appeared 56 times, 0.09 of the total set\n",
      "Reading in file train_noisy\n",
      "A appeared 681 times, 0.17 of the total set\n",
      "C appeared 571 times, 0.15 of the total set\n",
      "E appeared 678 times, 0.17 of the total set\n",
      "G appeared 622 times, 0.16 of the total set\n",
      "O appeared 666 times, 0.17 of the total set\n",
      "Q appeared 682 times, 0.17 of the total set\n"
     ]
    },
    {
     "data": {
      "image/png": "[encoded data removed]",
      "text/plain": [
       "<Figure size 400x200 with 1 Axes>"
      ]
     },
     "metadata": {},
     "output_type": "display_data"
    }
   ],
   "source": [
    "labelSummarySet = []\n",
    "labelSet = []\n",
    "featureset = []\n",
    "labelFig, labelAx = plt.subplots()\n",
    "labelFig.suptitle(\"Fig.1 % of data points by class\")\n",
    "labelFig.set_figwidth(4)\n",
    "labelFig.set_figheight(2)\n",
    "for data in dataset:\n",
    "    path = os.path.join(\"data\", data + \".txt\")\n",
    "    feature, label = read_data(path)\n",
    "    print(f\"Reading in file {data}\")\n",
    "    labelSummary = label_analyse(label, data, labelAx)  \n",
    "    labelSummarySet.append(labelSummary)\n",
    "    labelSet.append(label)\n",
    "    featureset.append(feature)"
   ]
  },
  {
   "cell_type": "markdown",
   "id": "7fafc1be",
   "metadata": {},
   "source": [
    "#### Question 1.2 "
   ]
  },
  {
   "cell_type": "markdown",
   "id": "111f2ecf",
   "metadata": {},
   "source": [
    "The attributes provided in the dataset are discrete variables and all are type of integers. The ranges of each attribute in train_full are as following:"
   ]
  },
  {
   "cell_type": "code",
   "execution_count": 4,
   "id": "e049335f",
   "metadata": {},
   "outputs": [],
   "source": [
    "classes, indices = np.unique(labelSet[0], return_inverse=True)"
   ]
  },
  {
   "cell_type": "code",
   "execution_count": 18,
   "id": "86d25594",
   "metadata": {},
   "outputs": [
    {
     "name": "stdout",
     "output_type": "stream",
     "text": [
      "for feature 0:\n",
      "          range is between 0 and 10   mode: 4   \n",
      "          standard deviation: 1.710099      median: 4.0\n",
      "for feature 1:\n",
      "          range is between 0 and 15   mode: 9   \n",
      "          standard deviation: 3.305896      median: 7.0\n",
      "for feature 2:\n",
      "          range is between 1 and 11   mode: 5   \n",
      "          standard deviation: 1.67762      median: 5.0\n",
      "for feature 3:\n",
      "          range is between 0 and 12   mode: 6   \n",
      "          standard deviation: 2.272632      median: 6.0\n",
      "for feature 4:\n",
      "          range is between 0 and 14   mode: 2   \n",
      "          standard deviation: 1.96102      median: 3.0\n",
      "for feature 5:\n",
      "          range is between 2 and 14   mode: 7   \n",
      "          standard deviation: 1.815799      median: 7.0\n",
      "for feature 6:\n",
      "          range is between 0 and 14   mode: 7   \n",
      "          standard deviation: 1.886738      median: 7.0\n",
      "for feature 7:\n",
      "          range is between 0 and 10   mode: 6   \n",
      "          standard deviation: 1.998248      median: 6.0\n",
      "for feature 8:\n",
      "          range is between 0 and 12   mode: 5   \n",
      "          standard deviation: 2.599436      median: 5.0\n",
      "for feature 9:\n",
      "          range is between 3 and 13   mode: 7   \n",
      "          standard deviation: 1.923451      median: 7.0\n",
      "for feature 10:\n",
      "          range is between 0 and 11   mode: 6   \n",
      "          standard deviation: 2.158352      median: 6.0\n",
      "for feature 11:\n",
      "          range is between 4 and 15   mode: 8   \n",
      "          standard deviation: 2.00996      median: 9.0\n",
      "for feature 12:\n",
      "          range is between 0 and 12   mode: 2   \n",
      "          standard deviation: 1.629391      median: 2.0\n",
      "for feature 13:\n",
      "          range is between 1 and 15   mode: 8   \n",
      "          standard deviation: 1.349899      median: 8.0\n",
      "for feature 14:\n",
      "          range is between 0 and 11   mode: 4   \n",
      "          standard deviation: 1.826949      median: 4.0\n",
      "for feature 15:\n",
      "          range is between 1 and 14   mode: 8   \n",
      "          standard deviation: 1.494094      median: 8.0\n"
     ]
    },
    {
     "data": {
      "text/plain": [
       "<matplotlib.legend.Legend at 0x7f9257ebe380>"
      ]
     },
     "execution_count": 18,
     "metadata": {},
     "output_type": "execute_result"
    },
    {
     "data": {
      "image/png": "[encoded data removed]",
      "text/plain": [
       "<Figure size 1000x600 with 16 Axes>"
      ]
     },
     "metadata": {},
     "output_type": "display_data"
    }
   ],
   "source": [
    "featureFig, featureAx = plt.subplots(4, 4, figsize=(10,6))\n",
    "featureFig.suptitle(f\"Fig.2 Stacked histogram for features by class in train_full\")\n",
    "for col in range(feature.shape[1]):\n",
    "    featureData = feature[:,col]\n",
    "    print(f\"\"\"for feature {col}:\n",
    "          range is between {min(featureData)} and {max(featureData)}   mode: {stats.mode(featureData)[0][0]}   \n",
    "          standard deviation: {round(featureData.std(axis=0), 6)}      median: {np.median(featureData)}\"\"\") \n",
    "    row = int(col/4)\n",
    "    column = int(col%4)\n",
    "    perClassFeature = []\n",
    "    for class_idx in range(len(classes)):\n",
    "        perClassFeature.append(featureData[indices==class_idx])\n",
    "    \n",
    "    n, bins, patche = featureAx[row, column].hist(perClassFeature, bins=np.unique(featureData), stacked=True, label=classes)\n",
    "    featureAx[row, column].tick_params(axis='both', which='major', labelsize=5, pad=0, rotation=45)\n",
    "\n",
    "handles, labels = featureAx[0,0].get_legend_handles_labels()\n",
    "featureFig.legend(handles, labels)\n",
    "# featureFig.savefig(f\"Feature Graph for {data}.png\", dpi=1600)"
   ]
  },
  {
   "cell_type": "markdown",
   "id": "5753e353",
   "metadata": {},
   "source": [
    "#### Question 1.3 "
   ]
  },
  {
   "cell_type": "code",
   "execution_count": 6,
   "id": "622784cf",
   "metadata": {},
   "outputs": [],
   "source": [
    "#combining feature and label data\n",
    "train_full = np.concatenate((featureset[0], labelSet[0].reshape(len(labelSet[0]),1)), axis=1)\n",
    "train_noisy = np.concatenate((featureset[2], labelSet[2].reshape(len(labelSet[2]),1)), axis=1)\n",
    "#prepare sorting keys\n",
    "lexsortKeyFull = tuple([train_full[:,i] for i in range(15, -1, -1)])\n",
    "lexsortKeyNoisy = tuple([train_noisy[:,i] for i in range(15, -1, -1)])\n",
    "#sort by each column, 1st column as primary, 2nd as secondary....\n",
    "train_full = train_full[np.lexsort(lexsortKeyFull)]\n",
    "train_noisy = train_noisy[np.lexsort(lexsortKeyNoisy)]"
   ]
  },
  {
   "cell_type": "code",
   "execution_count": 7,
   "id": "4706961d",
   "metadata": {},
   "outputs": [
    {
     "name": "stdout",
     "output_type": "stream",
     "text": [
      "There are 598 rows having different labels in train_full & train_noisy, representing 15.33% of the samples.\n"
     ]
    }
   ],
   "source": [
    "rowComparison = np.sum(train_full==train_noisy, axis=1)\n",
    "diffCount = np.sum(rowComparison != 17)\n",
    "print(f\"There are {diffCount} rows having different labels in train_full & train_noisy, representing {round(diffCount/len(train_full)*100,2)}% of the samples.\")"
   ]
  },
  {
   "cell_type": "markdown",
   "id": "4fd0d754",
   "metadata": {},
   "source": [
    "From Fig.1, the proportion of each class within the sample stayed roughly the same, thus the class distribution has not been affected.\\\n",
    "Considering the classes for which the proportion in total samples have changed by more than 0.5% across train_full and train_noisy, we observe that:\n",
    "- classes C & O have slightly larger number of samples in train_noisy compared to train_full; \n",
    "- class G has a smaller number of samples in train_noisy compared to train_full."
   ]
  },
  {
   "cell_type": "markdown",
   "id": "9c87b363",
   "metadata": {},
   "source": [
    "### Part 2 Implementing decision trees"
   ]
  },
  {
   "cell_type": "markdown",
   "id": "4d822f27",
   "metadata": {},
   "source": [
    "#### Task 2.1"
   ]
  },
  {
   "cell_type": "markdown",
   "id": "1303373c",
   "metadata": {},
   "source": [
    "\n",
    "A binary tree is chosen since all the attributes of the dataset are integers.\n",
    "\n",
    "The decision tree classifier has an attribute called `_rootNode` which allows access to the topmost node in the tree. Since it is a binary tree classifier, each decision node has two branches, `leftNode` and `rightNode`. Each node stores the evaluated feature `feature` and the splitting threashold `splitPoint`. If a final node of the tree is reached, the attribute `isLeaf` will be set to true and the attribute `classLabel` will store the value of its category of this leaf Node.\n",
    "\n",
    "The decision tree is built top-down from a root node by finding an feature and its corresponding splitting threashold that return the highest information gain. The method `__find_best_split_point()` iterates through each possible feature and threashold and selects the combination that maximizes the information gain.\n",
    " \n",
    "The splitting process will be stopped if:\n",
    "* All the data points in a node belong to the same category.\n",
    "*  The data points in a node have repeated values for each feature, which means $X_{i,l} = X_{j,l}$ for all $i, j \\in {1, 2, ... , N}$ and $l \\in {1, 2, ... , K}$, where $i$, $j$ are data indices, $l$ is feature index, $N$ is the number of data points and $K$ is the number of features.\n",
    "*  A certain depth of the tree is reached.\n",
    "*  A certain number of training sample required to split an node is reached.\n",
    "\n",
    "In this section, only the first two conditions are considered, and the latter two conditions will be discussed in detail in section 4.\n",
    "\n",
    "Since Fig.2 shows that all the attributes fall within a similar range of values and appear to follow a normal distribution pattern, the training data is not pre-processed, e.g. standardized or normalized."
   ]
  },
  {
   "cell_type": "markdown",
   "id": "222a8c84",
   "metadata": {},
   "source": [
    "#### Task 2.2"
   ]
  },
  {
   "cell_type": "markdown",
   "id": "c5afaeb9",
   "metadata": {},
   "source": [
    "\n",
    "The `predict()` method takes an array of test samples and loops over each sample to get its predicted class label by calling the `__predict_one_sample()` method. This method takes a node and a sample as inputs and returns the predicted category. It navigates from a root node to leaf nodes and implements the following steps in a recursive manner.\n",
    "\n",
    "If the current node is a leaf node, the `classLabel` is returned. Otherwise, the feature value of the sample is evaluated. If the feature value is less than the `splitPoint`, the left child node is traversed. Otherwise, the right child node is traversed. This process is repeated until a leaf node is reached."
   ]
  },
  {
   "cell_type": "markdown",
   "id": "c8ec9ceb",
   "metadata": {},
   "source": [
    "### Part 3: Evaluation"
   ]
  },
  {
   "cell_type": "code",
   "execution_count": 20,
   "id": "5e97c84c",
   "metadata": {},
   "outputs": [],
   "source": [
    "files = [os.path.join(\"data\",i) for i in dataset]\n",
    "confusion_dt, rec, prec, f1 = [],[],[],[]\n",
    "acc, macro_rec, macro_prec, macro_f1 = np.zeros(len(files)), np.zeros(len(files)), np.zeros(len(files)), np.zeros(len(files))"
   ]
  },
  {
   "cell_type": "code",
   "execution_count": 21,
   "id": "632cb61c",
   "metadata": {},
   "outputs": [],
   "source": [
    "(x_test,y_test) = read_data(\"./data/test.txt\")"
   ]
  },
  {
   "cell_type": "code",
   "execution_count": 22,
   "id": "f3fa03aa",
   "metadata": {},
   "outputs": [
    {
     "name": "stdout",
     "output_type": "stream",
     "text": [
      "['A' 'C' 'E' 'Q'] [1 1 3 3]\n",
      "['E' 'O'] [2 5]\n"
     ]
    }
   ],
   "source": [
    "for i in range(len(dataset)):\n",
    "    filepath = os.path.join(\"data\", dataset[i] +\".txt\")\n",
    "    (x_train,y_train) = read_data(filepath)\n",
    "\n",
    "    tree = DecisionTreeClassifier()\n",
    "    rootNode = tree.fit(x_train,y_train)\n",
    "    y_predict = tree.predict(x_test)\n",
    "    \n",
    "    # Compute confusion matrix on predictions\n",
    "    confusion_dt.append(confusion_matrix(y_test, y_predict))\n",
    "    # Compute accuracy on predictions\n",
    "    acc[i] = accuracy(y_test, y_predict)\n",
    "    # Compute Recall, Precision, and F1 score per class\n",
    "    rec_list, macro_rec[i] = recall(y_test, y_predict)\n",
    "    prec_list, macro_prec[i] = precision(y_test, y_predict)\n",
    "    f1_list, macro_f1[i]  = f1_score(y_test, y_predict)\n",
    "    rec.append(rec_list)\n",
    "    prec.append(prec_list)\n",
    "    f1.append(f1_list)\n",
    "\n",
    "    #explore which classes are often confused (as which classes)\n",
    "    if (i == 0):\n",
    "        classG, countG = np.unique(y_predict[(y_test == 'G') & (y_test != y_predict)], return_counts = True)\n",
    "        classQ, countQ = np.unique(y_predict[(y_test == 'Q') & (y_test != y_predict)], return_counts = True)\n",
    "\n",
    "print(classG, countG)  #check class 'G' is often confused as which class\n",
    "print(classQ, countQ)  #check class 'Q' is often confused as which class"
   ]
  },
  {
   "cell_type": "code",
   "execution_count": 23,
   "id": "1d26b834",
   "metadata": {},
   "outputs": [
    {
     "name": "stdout",
     "output_type": "stream",
     "text": [
      "Considering model trained on train_full:  \n",
      "        Confusion matrix is [[33  0  0  1  0  0]\n",
      " [ 1 33  2  1  0  0]\n",
      " [ 0  0 24  0  1  1]\n",
      " [ 1  1  3 19  0  3]\n",
      " [ 0  2  0  1 31  0]\n",
      " [ 0  0  2  0  5 35]]\n",
      "        Accuracy of model is 0.875\n",
      "        Recall of each class is [0.97058824 0.89189189 0.92307692 0.7037037  0.91176471 0.83333333]\n",
      "        Precision of each class is [0.94285714 0.91666667 0.77419355 0.86363636 0.83783784 0.8974359 ]\n",
      "        F1-score of each class is [0.95652174 0.90410959 0.84210526 0.7755102  0.87323944 0.86419753]\n",
      "        Macro-averaged recall is 0.8724\n",
      "        Macro-averaged precision is 0.8721\n",
      "        Macro-averaged F1 score is 0.8693\n",
      "    \n",
      "Incorrect predictions / Number of correct predictions / Incorrect prediction rate\n",
      "\tfor class A: 1  / 33 / 2.94%\n",
      "\tfor class C: 4  / 33 / 10.81%\n",
      "\tfor class E: 2  / 24 / 7.69%\n",
      "\tfor class G: 8  / 19 / 29.63%\n",
      "\tfor class O: 3  / 31 / 8.82%\n",
      "\tfor class Q: 7  / 35 / 16.67%\n",
      "--------------------------------------------------\n",
      "Considering model trained on train_sub:  \n",
      "        Confusion matrix is [[27  0  4  1  0  2]\n",
      " [ 0 34  0  1  0  2]\n",
      " [ 0  2 22  1  0  1]\n",
      " [ 1  6  4  7  3  6]\n",
      " [ 1  2  0  3 24  4]\n",
      " [ 2  3  2  0  9 26]]\n",
      "        Accuracy of model is 0.7\n",
      "        Recall of each class is [0.79411765 0.91891892 0.84615385 0.25925926 0.70588235 0.61904762]\n",
      "        Precision of each class is [0.87096774 0.72340426 0.6875     0.53846154 0.66666667 0.63414634]\n",
      "        F1-score of each class is [0.83076923 0.80952381 0.75862069 0.35       0.68571429 0.62650602]\n",
      "        Macro-averaged recall is 0.6906\n",
      "        Macro-averaged precision is 0.6869\n",
      "        Macro-averaged F1 score is 0.6769\n",
      "    \n",
      "Incorrect predictions / Number of correct predictions / Incorrect prediction rate\n",
      "\tfor class A: 7  / 27 / 20.59%\n",
      "\tfor class C: 3  / 34 / 8.11%\n",
      "\tfor class E: 4  / 22 / 15.38%\n",
      "\tfor class G: 20  / 7 / 74.07%\n",
      "\tfor class O: 10  / 24 / 29.41%\n",
      "\tfor class Q: 16  / 26 / 38.1%\n",
      "--------------------------------------------------\n",
      "Considering model trained on train_noisy:  \n",
      "        Confusion matrix is [[30  0  0  1  1  2]\n",
      " [ 1 32  0  3  1  0]\n",
      " [ 0  1 23  2  0  0]\n",
      " [ 0  1  1 15  1  9]\n",
      " [ 1  0  1  1 28  3]\n",
      " [ 2  0  3  3  5 29]]\n",
      "        Accuracy of model is 0.785\n",
      "        Recall of each class is [0.88235294 0.86486486 0.88461538 0.55555556 0.82352941 0.69047619]\n",
      "        Precision of each class is [0.88235294 0.94117647 0.82142857 0.6        0.77777778 0.6744186 ]\n",
      "        F1-score of each class is [0.88235294 0.90140845 0.85185185 0.57692308 0.8        0.68235294]\n",
      "        Macro-averaged recall is 0.7836\n",
      "        Macro-averaged precision is 0.7829\n",
      "        Macro-averaged F1 score is 0.7825\n",
      "    \n",
      "Incorrect predictions / Number of correct predictions / Incorrect prediction rate\n",
      "\tfor class A: 4  / 30 / 11.76%\n",
      "\tfor class C: 5  / 32 / 13.51%\n",
      "\tfor class E: 3  / 23 / 11.54%\n",
      "\tfor class G: 12  / 15 / 44.44%\n",
      "\tfor class O: 6  / 28 / 17.65%\n",
      "\tfor class Q: 13  / 29 / 30.95%\n",
      "--------------------------------------------------\n"
     ]
    }
   ],
   "source": [
    "classlabels = np.unique(y_train)\n",
    "for idx, data in enumerate(dataset):\n",
    "    print(f\"\"\"Considering model trained on {data}:  \n",
    "        Confusion matrix is {confusion_dt[idx]}\n",
    "        Accuracy of model is {acc[idx]}\n",
    "        Recall of each class is {rec[idx]}\n",
    "        Precision of each class is {prec[idx]}\n",
    "        F1-score of each class is {f1[idx]}\n",
    "        Macro-averaged recall is {round(macro_rec[idx],4)}\n",
    "        Macro-averaged precision is {round(macro_prec[idx],4)}\n",
    "        Macro-averaged F1 score is {round(macro_f1[idx],4)}\"\"\")   \n",
    "    print(f\"Incorrect predictions / Number of correct predictions / Incorrect prediction rate\")\n",
    "    for i in range(len(classlabels)):\n",
    "        print(f\"\"\"\\tfor class {classlabels[i]}: {np.sum(confusion_dt[idx][i]) - confusion_dt[idx][i][i]}  / {confusion_dt[idx][i][i]} / {np.round(100* (np.sum(confusion_dt[idx][i]) - confusion_dt[idx][i][i]) / np.sum(confusion_dt[idx][i]), 2)}%\"\"\")\n",
    "    print(\"-\"*50)"
   ]
  },
  {
   "cell_type": "markdown",
   "id": "7ac66149",
   "metadata": {},
   "source": [
    "#### Which one performs the best? The worst? Give some insights into why.\n",
    "The model trained with train_full.txt performs the best, with an accuracy of 0.875, macro-averaged recall of 0.8724, macro-averaged precision of 0.8721, macro-averaged F1 score of 0.8693.\n",
    "The model trained with train_sub.txt performs the worst, with an accuracy of 0.7, macro-averaged recall of 0.6906, macro-averaged precision of 0.6869, macro-averaged F1 score of 0.6769.\n",
    "- The less data, the more prone to overfitting, thus the number of samples in train_sub limits the performance of the model on test data.\n",
    "- In addition, the data points in train_sub are imbalanced across class, e.g. there are much fewer data points for class G. Thus the trained decision tree could not 'learn' much about this specific class, resulting in a poorer recall in comparison to other classes in train_sub."
   ]
  },
  {
   "cell_type": "markdown",
   "id": "aa2802d5",
   "metadata": {},
   "source": [
    "#### Which classes are accurate? Which classes are often confused? Which classes are they often confused as? Explain.\n",
    "In the model trained with train_full.txt, class A is the most accurate, with a recall of 0.97, precision of 0.94, f1-score of 0.96. The incorrect predictions / number of correct predictions are respectively 1  / 33; The incorrect prediction rate is 2.94%, which is the lowest among all classes.\n",
    "\n",
    "In the model trained with train_full.txt, class G is often confused, with a recall of 0.70, precision of 0.86, f1-score of 0.78. The incorrect predictions / number of correct predictions are respectively 8  / 19; The incorrect prediction rate is 29.63%, which is the highest among all classes. It is often confused as class 'E' and class 'Q', as it's mistaken as 'E' or 'Q' for 3 times each; Q is also often confused as O, as it's mistaken as 'O' for 5 times."
   ]
  },
  {
   "cell_type": "markdown",
   "id": "1f5abe4d",
   "metadata": {},
   "source": [
    "#### Question 3.2\n",
    "Perform 10-fold cross validation on train full.txt. You can use the cross validation code from the lab tutorials.\n",
    "\n",
    "Report the average accuracy across the 10 folds. Also report the standard deviation of the accuracies. For example, 0:7854 +/- 0:0122. What does it mean to have a small/large standard deviation in this context?"
   ]
  },
  {
   "cell_type": "code",
   "execution_count": 12,
   "id": "54bd5123",
   "metadata": {},
   "outputs": [
    {
     "name": "stdout",
     "output_type": "stream",
     "text": [
      "[0.94103 0.88974 0.91795 0.90769 0.90256 0.91282 0.89487 0.91282 0.93333\n",
      " 0.89231]\n",
      "the accuracy across the 10 folds is 0.9105 +/- 0.0161\n"
     ]
    }
   ],
   "source": [
    "x, y = read_data(\"./data/train_full.txt\")\n",
    "n_folds = 10\n",
    "accuracies = np.zeros((n_folds, ))\n",
    "seed = 12345\n",
    "rg = default_rng(seed)\n",
    "\n",
    "for i, (train_indices, test_indices) in enumerate(train_test_k_fold(n_folds, len(x), rg)):\n",
    "    # get the dataset from the correct splits\n",
    "    x_train = x[train_indices, :]\n",
    "    y_train = y[train_indices]\n",
    "    x_test = x[test_indices, :]\n",
    "    y_test = y[test_indices]\n",
    "    # Train the Decision Tree\n",
    "    tree = DecisionTreeClassifier()\n",
    "    rootNode = tree.fit(x_train,y_train)\n",
    "    y_predict = tree.predict(x_test)\n",
    "    accuracies[i] = accuracy(y_test, y_predict)\n",
    "print(accuracies)\n",
    "print(f\"the accuracy across the 10 folds is {round(accuracies.mean(),4)} +/- {round(accuracies.std(),4)}\")"
   ]
  },
  {
   "cell_type": "markdown",
   "id": "177427f1",
   "metadata": {},
   "source": [
    "Small standard deviation suggests that the model performance in terms of accurancy is consistent across different folds; this implies the data is shuffled well, so there isn't a single tree that is more under/overfit than others."
   ]
  },
  {
   "cell_type": "markdown",
   "id": "b0ebdfa2",
   "metadata": {},
   "source": [
    "#### Question 3.3"
   ]
  },
  {
   "cell_type": "code",
   "execution_count": 13,
   "id": "856564f7",
   "metadata": {},
   "outputs": [
    {
     "name": "stdout",
     "output_type": "stream",
     "text": [
      "0.905\n"
     ]
    }
   ],
   "source": [
    "X_test,Y_test = read_data(\"./data/test.txt\")\n",
    "Y_predicts = []\n",
    "seed = 12345\n",
    "rg = default_rng(seed)\n",
    "accuracies = np.zeros((n_folds, ))\n",
    "for i, (train_indices, test_indices) in enumerate(train_test_k_fold(n_folds, len(x), rg)):\n",
    "    # get the dataset from the correct splits\n",
    "    x_train = x[train_indices, :]\n",
    "    y_train = y[train_indices]\n",
    "    x_test = x[test_indices, :]\n",
    "    y_test = y[test_indices]\n",
    "    # Train the Decision Tree\n",
    "    tree = DecisionTreeClassifier()\n",
    "    rootNode = tree.fit(x_train,y_train)\n",
    "    Y_predicts.append(tree.predict(X_test)) \n",
    "\n",
    "Y_prediction_by_mode = np.empty((len(Y_test), ), dtype = Y_test.dtype)\n",
    "for i in range(len(Y_prediction_by_mode)):\n",
    "    d_freq = dict.fromkeys(['A', 'C', 'E', 'G', 'O', 'Q'], 0)\n",
    "    for fold_j in range(n_folds):\n",
    "        d_freq[Y_predicts[fold_j][i]] += 1\n",
    "    Y_prediction_by_mode[i] = max(d_freq, key = d_freq.get)\n",
    "acc = accuracy(Y_test, Y_prediction_by_mode)\n",
    "print(acc)"
   ]
  },
  {
   "cell_type": "markdown",
   "id": "8609a1fa",
   "metadata": {},
   "source": [
    "The accuracy of model trained on full set of train_full.txt is 0.875; 0.905 indicates a small improvement in the accurancy. \n",
    "\n",
    "One possible explaination is that the mode is not affected by extreme values; if there are some abnormal data points, while they could affect the training process in a single decision tree, the prediction from that specific tree will be overruled by the prediction from other trees, which are trained with 'normal' data points. Besides, k-fold cross validation could prevent the overfitting of the training data set."
   ]
  },
  {
   "cell_type": "markdown",
   "id": "96f9f212",
   "metadata": {},
   "source": [
    "### Part 4: Improving your decision tree"
   ]
  },
  {
   "cell_type": "markdown",
   "id": "8a08e766",
   "metadata": {},
   "source": [
    "#### Task 4.1\n",
    "The proposed improvement includes a pruning process where we try limiting the growth of the tree with 3 hyperparameters:\n",
    "- max_depth: maximum depth of decision tree\n",
    "- min_sample_split: The minimum number of samples required to split an internal node\n",
    "- min_samples_leaf: The minimum number of samples required to be at a leaf node\n",
    "\n",
    "This is motivated by the observation from the original tree which had a few leaf nodes with limited samples.\n",
    "\n",
    "In the implementation, these 3 hyperparameters are jointly selected based on accuracies of prediction against validation set. Given the sample size from validation set is rather limited and the slight imbalance in the class labels, instead of choosing the combination giving the best performance, we take the models with better performance which is defined as top 10% and apply a bagging process, so that the predicted class for each sample is the mode of predictions given by these decision trees. Similar to qn3.3 above, we hope to leverage this process to reduce the variance of the model."
   ]
  },
  {
   "cell_type": "markdown",
   "id": "a2754b6a",
   "metadata": {},
   "source": [
    "#### Question 4.1"
   ]
  },
  {
   "cell_type": "code",
   "execution_count": 15,
   "id": "09027eb8",
   "metadata": {},
   "outputs": [
    {
     "name": "stdout",
     "output_type": "stream",
     "text": [
      "Model trained with ./data/train_full.txt:\n",
      "Confusion matrx: [[33  0  0  1  0  0]\n",
      " [ 0 34  2  1  0  0]\n",
      " [ 0  0 25  0  1  0]\n",
      " [ 1  1  0 22  0  3]\n",
      " [ 0  2  0  1 31  0]\n",
      " [ 0  0  3  0  7 32]]\n",
      "        Accuracy: 0.885\n",
      "        Recall / Macro_averaged Recall (array([0.97058824, 0.91891892, 0.96153846, 0.81481481, 0.91176471,\n",
      "       0.76190476]), 0.8899216497255713)\n",
      "        Precision / Macro_averaged Precision (array([0.97058824, 0.91891892, 0.83333333, 0.88      , 0.79487179,\n",
      "       0.91428571]), 0.8853329994506466)\n",
      "        F1 score / Macro_averaged F1 (array([0.97058824, 0.91891892, 0.89285714, 0.84615385, 0.84931507,\n",
      "       0.83116883]), 0.8848336738143346)\n",
      "Model trained with ./data/train_noisy.txt:\n",
      "Confusion matrx: [[32  0  0  0  1  1]\n",
      " [ 1 31  0  4  1  0]\n",
      " [ 0  0 23  3  0  0]\n",
      " [ 0  1  0 16  0 10]\n",
      " [ 1  1  1  0 29  2]\n",
      " [ 1  0  3  3  6 29]]\n",
      "        Accuracy: 0.8\n",
      "        Recall / Macro_averaged Recall (array([0.94117647, 0.83783784, 0.88461538, 0.59259259, 0.85294118,\n",
      "       0.69047619]), 0.7999399420968049)\n",
      "        Precision / Macro_averaged Precision (array([0.91428571, 0.93939394, 0.85185185, 0.61538462, 0.78378378,\n",
      "       0.69047619]), 0.7991960158626825)\n",
      "        F1 score / Macro_averaged F1 (array([0.92753623, 0.88571429, 0.86792453, 0.60377358, 0.81690141,\n",
      "       0.69047619]), 0.7987210382887976)\n"
     ]
    }
   ],
   "source": [
    "x_test, y_test = read_data(\"./data/test.txt\")\n",
    "x_val, y_val = read_data(\"./data/validation.txt\")\n",
    "\n",
    "for file in [\"./data/train_full.txt\", \"./data/train_noisy.txt\"]:\n",
    "    print(f\"Model trained with {file}:\")\n",
    "    x_train, y_train = read_data(file)\n",
    "    y_predict = train_and_predict(x_train, y_train, x_test, x_val, y_val)\n",
    "    print(f\"\"\"Confusion matrx: {confusion_matrix(y_test, y_predict)}\n",
    "        Accuracy: {accuracy(y_test, y_predict)}\n",
    "        Recall / Macro_averaged Recall {recall(y_test, y_predict)}\n",
    "        Precision / Macro_averaged Precision {precision(y_test, y_predict)}\n",
    "        F1 score / Macro_averaged F1 {f1_score(y_test, y_predict)}\"\"\")"
   ]
  },
  {
   "cell_type": "markdown",
   "id": "ba950f30",
   "metadata": {},
   "source": [
    "We noted there is a slight improvement in the performance for models trained with either dataset; more specifically:\n",
    "- for the model trained on train_full, there is improvement in prediction quality for class E & G, as seen from the increase in recall, precision and f1 score.\n",
    "- for model trained on the train_noisy set, we see improvements in class A, E & G.\n",
    "\n",
    "Given the base case had an accuracy of 87.5% on the test.txt, it shows that the original tree, though not pruned, did not have a severe overfit problem, therefore the pruning process wouldn't significantly improve the performance. When it gets combined with the bagging process, the top level nodes are likely to stay the same in different trees, and the difference across tress are mainly about the last few splits. Therefore, the observed improvement could be mainly due to the reduction in variance."
   ]
  }
 ],
 "metadata": {
  "kernelspec": {
   "display_name": "Python 3 (ipykernel)",
   "language": "python",
   "name": "python3"
  },
  "language_info": {
   "codemirror_mode": {
    "name": "ipython",
    "version": 3
   },
   "file_extension": ".py",
   "mimetype": "text/x-python",
   "name": "python",
   "nbconvert_exporter": "python",
   "pygments_lexer": "ipython3",
   "version": "3.10.6"
  }
 },
 "nbformat": 4,
 "nbformat_minor": 5
}
